{
  "cells": [
    {
      "cell_type": "markdown",
      "metadata": {
        "id": "WcsL76W_dtgs"
      },
      "source": [
        "Author: Han Lin"
      ]
    },
    {
      "cell_type": "code",
      "execution_count": 1,
      "metadata": {
        "colab": {
          "base_uri": "https://localhost:8080/",
          "height": 453
        },
        "id": "yvg37uzXdtgt",
        "outputId": "f5b82f52-5623-47b1-9eed-fdf775125db7"
      },
      "outputs": [
        {
          "output_type": "stream",
          "name": "stdout",
          "text": [
            "Python version: 3.10.12 (main, Jun 11 2023, 05:26:28) [GCC 11.4.0]\n",
            "pandas version: 1.5.3\n",
            "matplotlib version: 3.7.1\n",
            "NumPy version: 1.23.5\n"
          ]
        },
        {
          "output_type": "error",
          "ename": "ModuleNotFoundError",
          "evalue": "ignored",
          "traceback": [
            "\u001b[0;31m---------------------------------------------------------------------------\u001b[0m",
            "\u001b[0;31mModuleNotFoundError\u001b[0m                       Traceback (most recent call last)",
            "\u001b[0;32m<ipython-input-1-a690da2f5a15>\u001b[0m in \u001b[0;36m<cell line: 14>\u001b[0;34m()\u001b[0m\n\u001b[1;32m     12\u001b[0m \u001b[0mprint\u001b[0m\u001b[0;34m(\u001b[0m\u001b[0;34m\"NumPy version:\"\u001b[0m\u001b[0;34m,\u001b[0m \u001b[0mnp\u001b[0m\u001b[0;34m.\u001b[0m\u001b[0m__version__\u001b[0m\u001b[0;34m)\u001b[0m\u001b[0;34m\u001b[0m\u001b[0;34m\u001b[0m\u001b[0m\n\u001b[1;32m     13\u001b[0m \u001b[0;34m\u001b[0m\u001b[0m\n\u001b[0;32m---> 14\u001b[0;31m \u001b[0;32mimport\u001b[0m \u001b[0mjupyterlab\u001b[0m\u001b[0;34m\u001b[0m\u001b[0;34m\u001b[0m\u001b[0m\n\u001b[0m\u001b[1;32m     15\u001b[0m \u001b[0mprint\u001b[0m\u001b[0;34m(\u001b[0m\u001b[0;34m\"Jupyter lab version:\"\u001b[0m\u001b[0;34m,\u001b[0m \u001b[0mjupyterlab\u001b[0m\u001b[0;34m.\u001b[0m\u001b[0m__version__\u001b[0m\u001b[0;34m)\u001b[0m\u001b[0;34m\u001b[0m\u001b[0;34m\u001b[0m\u001b[0m\n\u001b[1;32m     16\u001b[0m \u001b[0;34m\u001b[0m\u001b[0m\n",
            "\u001b[0;31mModuleNotFoundError\u001b[0m: No module named 'jupyterlab'",
            "",
            "\u001b[0;31m---------------------------------------------------------------------------\u001b[0;32m\nNOTE: If your import is failing due to a missing package, you can\nmanually install dependencies using either !pip or !apt.\n\nTo view examples of installing some common dependencies, click the\n\"Open Examples\" button below.\n\u001b[0;31m---------------------------------------------------------------------------\u001b[0m\n"
          ],
          "errorDetails": {
            "actions": [
              {
                "action": "open_url",
                "actionText": "Open Examples",
                "url": "/notebooks/snippets/importing_libraries.ipynb"
              }
            ]
          }
        }
      ],
      "source": [
        "# paste code from README.md to display versions and run cell\n",
        "import sys\n",
        "print(\"Python version:\", sys.version)\n",
        "\n",
        "import pandas as pd\n",
        "print(\"pandas version:\", pd.__version__)\n",
        "\n",
        "import matplotlib\n",
        "print(\"matplotlib version:\", matplotlib.__version__)\n",
        "\n",
        "import numpy as np\n",
        "print(\"NumPy version:\", np.__version__)\n",
        "\n",
        "import jupyterlab\n",
        "print(\"Jupyter lab version:\", jupyterlab.__version__)\n",
        "\n",
        "import sklearn\n",
        "print(\"scikit-learn version:\", sklearn.__version__)\n",
        "\n",
        "import ISLP\n",
        "print(\"ISLP version:\", ISLP.__version__)\n"
      ]
    },
    {
      "cell_type": "code",
      "execution_count": 2,
      "metadata": {
        "colab": {
          "base_uri": "https://localhost:8080/"
        },
        "id": "7B_ic7uldtgu",
        "outputId": "0c135a18-335b-44fe-d679-fc2dea7e144a"
      },
      "outputs": [
        {
          "output_type": "stream",
          "name": "stdout",
          "text": [
            "/bin/bash: line 1: conda: command not found\n"
          ]
        }
      ],
      "source": [
        "# run this cell to list conda environments\n",
        "!conda info --envs"
      ]
    },
    {
      "cell_type": "markdown",
      "metadata": {
        "id": "qgYEUF_Xdtgv"
      },
      "source": [
        "## Reflection\n",
        "Answer the following questions:\n",
        "\n",
        "1. Why are you motivated to take this course?\n",
        "    - To understand how artificial intelligence learns from copious amounts of data, and be able to produce a useful result.\n",
        "    - To gain an in-depth understanding of data science, statistics, and machine learning. By understanding these processes, I could get work done more efficiently and accurately, aiding me in my professional development journey.\n",
        "    - To see how artificial intelligence is applied in the digital engineering profession, as well as the various approaches digital engineers take in terms of maintenance, upgrade, and software patches.\n",
        "2. What do you contribute to succeed in this course?\n",
        "    - Efforts made to succeed in the course include, and are not limited to: staying on top of the lesson schedule, completing assignments regularly with the best of my efforts, as well as making use of the resources available such as lab time and active learning sessions.\n",
        "3. What do you expect from me?\n",
        "    - I expect that lecturers and teaching assistants will be readily available during the allocated time slots. Outside of class time, it would be appreciated to ask for help via email/discussion board and receive an answer promptly."
      ]
    }
  ],
  "metadata": {
    "kernelspec": {
      "display_name": "Python 3 (ipykernel)",
      "language": "python",
      "name": "python3"
    },
    "language_info": {
      "codemirror_mode": {
        "name": "ipython",
        "version": 3
      },
      "file_extension": ".py",
      "mimetype": "text/x-python",
      "name": "python",
      "nbconvert_exporter": "python",
      "pygments_lexer": "ipython3",
      "version": "3.11.4"
    },
    "colab": {
      "provenance": []
    }
  },
  "nbformat": 4,
  "nbformat_minor": 0
}